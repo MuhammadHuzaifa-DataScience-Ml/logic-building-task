{
 "cells": [
  {
   "cell_type": "code",
   "execution_count": 1,
   "id": "57cb1704-6190-4dec-a914-c99b79f046b4",
   "metadata": {},
   "outputs": [
    {
     "name": "stdout",
     "output_type": "stream",
     "text": [
      "Enter No. of resistor: 2\n",
      "enter_resistance value for resistor number 1 :50\n",
      "enter_resistance value for resistor number 2 :50\n",
      "Total resistance: 25.0 ohms\n"
     ]
    }
   ],
   "source": [
    "## \"python program for calculating Total resistance of parallel resistors\"\n",
    "\n",
    "def parallel_resistance(resistances): # function to calculate the total resistance\n",
    "    return 1 / sum(1 / r for r in resistances)\n",
    "    \n",
    "List_of_resistors=[] # list of all resistance values\n",
    "\n",
    "number_of_resistors=int(input(\"Enter No. of resistor: \")) #input for number of resistors\n",
    "\n",
    "for i in range(number_of_resistors): \n",
    "    enter_resistance_values=int(input(f\"enter_resistance value for resistor number {i+1} :\"))\n",
    "    List_of_resistors.append(enter_resistance_values)  # append all values to the list\n",
    "    \n",
    "total_resistance = parallel_resistance(List_of_resistors)\n",
    "\n",
    "print(\"Total resistance:\", round(total_resistance,2), \"ohms\")"
   ]
  },
  {
   "cell_type": "code",
   "execution_count": null,
   "id": "dbb76264-4d95-4ec5-ac05-56939ddf51ca",
   "metadata": {},
   "outputs": [],
   "source": []
  }
 ],
 "metadata": {
  "hide_input": false,
  "kernelspec": {
   "display_name": "Python 3 (ipykernel)",
   "language": "python",
   "name": "python3"
  },
  "language_info": {
   "codemirror_mode": {
    "name": "ipython",
    "version": 3
   },
   "file_extension": ".py",
   "mimetype": "text/x-python",
   "name": "python",
   "nbconvert_exporter": "python",
   "pygments_lexer": "ipython3",
   "version": "3.11.5"
  },
  "nbTranslate": {
   "displayLangs": [
    "*"
   ],
   "hotkey": "alt-t",
   "langInMainMenu": true,
   "sourceLang": "en",
   "targetLang": "fr",
   "useGoogleTranslate": true
  },
  "toc": {
   "base_numbering": 1,
   "nav_menu": {},
   "number_sections": true,
   "sideBar": true,
   "skip_h1_title": false,
   "title_cell": "Table of Contents",
   "title_sidebar": "Contents",
   "toc_cell": false,
   "toc_position": {},
   "toc_section_display": true,
   "toc_window_display": false
  },
  "varInspector": {
   "cols": {
    "lenName": 16,
    "lenType": 16,
    "lenVar": 40
   },
   "kernels_config": {
    "python": {
     "delete_cmd_postfix": "",
     "delete_cmd_prefix": "del ",
     "library": "var_list.py",
     "varRefreshCmd": "print(var_dic_list())"
    },
    "r": {
     "delete_cmd_postfix": ") ",
     "delete_cmd_prefix": "rm(",
     "library": "var_list.r",
     "varRefreshCmd": "cat(var_dic_list()) "
    }
   },
   "types_to_exclude": [
    "module",
    "function",
    "builtin_function_or_method",
    "instance",
    "_Feature"
   ],
   "window_display": false
  }
 },
 "nbformat": 4,
 "nbformat_minor": 5
}

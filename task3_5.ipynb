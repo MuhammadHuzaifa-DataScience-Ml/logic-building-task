{
 "cells": [
  {
   "cell_type": "markdown",
   "metadata": {},
   "source": [
    "# ARMSTRONG NUMBER"
   ]
  },
  {
   "cell_type": "code",
   "execution_count": 4,
   "metadata": {},
   "outputs": [
    {
     "name": "stdout",
     "output_type": "stream",
     "text": [
      "153 is an Armstrong number.\n"
     ]
    }
   ],
   "source": [
    "# Take input from the user\n",
    "number_input = int(input(\"Enter a number: \"))\n",
    "\n",
    "# Convert the number to a string to count the digits\n",
    "number_str = str(number_input)\n",
    "\n",
    "# Get the length of the number\n",
    "number_length = len(number_str)\n",
    "\n",
    "# Calculate the sum of each digit raised to the power of the number of digits\n",
    "armstrong_sum = sum(int(digit) ** number_length for digit in number_str)\n",
    "\n",
    "# Check if the sum is equal to the original number\n",
    "if armstrong_sum == number_input:\n",
    "    print(f\"{number_input} is an Armstrong number.\")\n",
    "else:\n",
    "    print(f\"{number_input} is not an Armstrong number.\")\n",
    "\n",
    "\n"
   ]
  },
  {
   "cell_type": "markdown",
   "metadata": {},
   "source": [
    "# half pyramid"
   ]
  },
  {
   "cell_type": "code",
   "execution_count": 2,
   "metadata": {},
   "outputs": [
    {
     "name": "stdout",
     "output_type": "stream",
     "text": [
      "* \n",
      "\n",
      "* * \n",
      "\n",
      "* * * \n",
      "\n",
      "* * * * \n",
      "\n",
      "* * * * * \n",
      "\n"
     ]
    }
   ],
   "source": [
    "# using loop\n",
    "def half_pyramid(n):\n",
    "    for i in range(1,n+1):\n",
    "        for j in range(1,i+1):\n",
    "            print('*',end= ' ')\n",
    "        print('\\n')\n",
    "half_pyramid(5)"
   ]
  },
  {
   "cell_type": "code",
   "execution_count": 8,
   "metadata": {},
   "outputs": [
    {
     "name": "stdout",
     "output_type": "stream",
     "text": [
      "*\n",
      "**\n",
      "***\n",
      "****\n",
      "*****\n"
     ]
    }
   ],
   "source": [
    "# using recursion\n",
    "def half_pyramid(n):\n",
    "    if n>0:\n",
    "        half_pyramid(n-1)\n",
    "        print('*'*n)\n",
    "    \n",
    "half_pyramid(5)"
   ]
  },
  {
   "cell_type": "markdown",
   "metadata": {},
   "source": [
    "# Fibonacci sequence"
   ]
  },
  {
   "cell_type": "code",
   "execution_count": 11,
   "metadata": {},
   "outputs": [
    {
     "data": {
      "text/plain": [
       "21"
      ]
     },
     "execution_count": 11,
     "metadata": {},
     "output_type": "execute_result"
    }
   ],
   "source": [
    "# using recursion\n",
    "def Fibonacci(n):\n",
    "    if n<=1:\n",
    "        return n\n",
    "    else:\n",
    "        return Fibonacci(n-1)+Fibonacci(n-2)\n",
    "Fibonacci(8)\n"
   ]
  },
  {
   "cell_type": "code",
   "execution_count": 14,
   "metadata": {},
   "outputs": [
    {
     "name": "stdout",
     "output_type": "stream",
     "text": [
      "[0, 1, 1, 2, 3, 5, 8, 13, 21]\n"
     ]
    }
   ],
   "source": [
    "# using dynamic programming\n",
    "def fibonacci(n):\n",
    "    fib = [0,1] + [0]*(n-1)\n",
    "    for i in range(2, n+1):\n",
    "        fib[i] = fib[i-1] + fib[i-2]\n",
    "    print(fib)\n",
    "fibonacci(8)"
   ]
  },
  {
   "cell_type": "markdown",
   "metadata": {},
   "source": [
    "Create a program that checks if two given strings are anagrams of each other."
   ]
  },
  {
   "cell_type": "code",
   "execution_count": 29,
   "metadata": {},
   "outputs": [
    {
     "name": "stdout",
     "output_type": "stream",
     "text": [
      "execute\n"
     ]
    }
   ],
   "source": [
    "str1=\"anagram\"\n",
    "str2='nagaram'\n",
    "# if (''.join(sorted(str1)))==(''.join(sorted(str1))):print(\"it is\")\n",
    "def IsAnagram(string1:str,string2:str):\n",
    "    st1=(' '.join(sorted(str1)))\n",
    "    st2=(' '.join(sorted(str2)))\n",
    "    if st1[:]==st2[:]:\n",
    "        print(\"execute\")\n",
    "    else:\n",
    "        print('it is not an amstronng number')\n",
    "IsAnagram('anagram','nagaram')\n",
    "\n"
   ]
  },
  {
   "cell_type": "code",
   "execution_count": 1,
   "metadata": {},
   "outputs": [
    {
     "name": "stdout",
     "output_type": "stream",
     "text": [
      "The strings are anagrams.\n"
     ]
    }
   ],
   "source": [
    "def is_anagram(string1: str, string2: str):\n",
    "    sorted_str1 = ''.join(sorted(string1))\n",
    "    sorted_str2 = ''.join(sorted(string2))\n",
    "    \n",
    "    if sorted_str1 == sorted_str2:\n",
    "        return True\n",
    "    else:\n",
    "        return False\n",
    "\n",
    "# Example usage:\n",
    "if is_anagram('anagram', 'nagaram'):\n",
    "    print(\"The strings are anagrams.\")\n",
    "else:\n",
    "    print(\"The strings are not anagrams.\")\n"
   ]
  },
  {
   "cell_type": "code",
   "execution_count": 3,
   "metadata": {},
   "outputs": [
    {
     "name": "stdout",
     "output_type": "stream",
     "text": [
      "Addition of matrices: [[2, 34, 4], [2, 9, 4]]\n",
      "Subtraction of matrices: [[0, 28, -5], [2, 5, 3]]\n",
      "Multiplication of matrices: [[4, 204, 36], [0, 36, 4]]\n",
      "Division of matrices: [[1.0, 5.666666666666667, 0.4444444444444444], [None, 2.25, 4.0]]\n"
     ]
    }
   ],
   "source": [
    "# Define matrices A and B\n",
    "A=[[2,34,4]\n",
    "   ,[2,9,4]]\n",
    "B=[[2,6,9],\n",
    "   [0,4,1]]\n",
    "# Get the number of rows and columns of the matrices using the len() function.\n",
    "rows=len(A)\n",
    "columns=len(A[0])\n",
    "# Initialize matrices C, D, and E with zeros using nested loops or list comprehension.\n",
    "# Use nested loops or list comprehension to perform the element-wise addition, subtraction, and division of matrices.\n",
    "# ADDITION\n",
    "\n",
    "C=[[0 for _ in range(columns)]for _ in range(rows)]\n",
    "for row in range(rows):\n",
    "    for col in range(columns):\n",
    "        C[row][col]=A[row][col]+B[row][col]\n",
    "# SUBTRACTION\n",
    "S=[[0 for _ in range(columns)]for _ in range(rows)]\n",
    "for row in range(rows):\n",
    "    for col in range(columns):\n",
    "        S[row][col]=A[row][col]-B[row][col]\n",
    "# MULTIPLICATION\n",
    "M=[[0 for i in range(columns)]for j in range(rows)]\n",
    "for row in range(rows):\n",
    "    for col in range(columns):\n",
    "        M[row][col]=A[row][col]*B[row][col]\n",
    "#DIVISION\n",
    "D=[[0 for i in range(columns)]for j in range(rows)]\n",
    "for row in range(rows):\n",
    "    for col in range(columns):\n",
    "       if B[row][col] == 0:\n",
    "            D[row][col] = None  # Handle division by zero\n",
    "       else:\n",
    "            D[row][col] = A[row][col] / B[row][col]\n",
    "\n",
    "\n",
    "# Print the resulting matrices C, D, and E.\n",
    "print(f'Addition of matrices: {A}')\n",
    "print(f'Subtraction of matrices: {S}')\n",
    "print(f'Multiplication of matrices: {M}')\n",
    "print(f'Division of matrices: {D}')\n",
    "\n",
    "\n"
   ]
  },
  {
   "cell_type": "code",
   "execution_count": 6,
   "metadata": {},
   "outputs": [
    {
     "data": {
      "text/plain": [
       "2"
      ]
     },
     "execution_count": 6,
     "metadata": {},
     "output_type": "execute_result"
    }
   ],
   "source": [
    "shift = 3\n",
    "alphabets='A', 'B', 'C', 'D', 'E', 'F', 'G', 'H', 'I', 'J', 'K', 'L', 'M', 'N', 'O', 'P', 'Q', 'R', 'S', 'T', 'U', 'V', 'W', 'X', 'Y', 'Z'\n"
   ]
  },
  {
   "cell_type": "code",
   "execution_count": 1,
   "metadata": {},
   "outputs": [],
   "source": [
    "from collections import deque\n",
    "\n",
    "def IsValid(grid,row,col):\n",
    "    rows=len(grid)\n",
    "    cols=len(grid[0])\n",
    "    return 0<=row<rows and 0<=col<cols and grid[row][col]!='#'\n",
    "def get_neighbors(grid,row,col):\n",
    "    neighbors=[]\n",
    "    directions=[(0,1),(0,-1),(1,0),(-1,0)]\n",
    "    for dr,dc in directions:\n",
    "       new_row,new_col=row+dr,col+dc\n",
    "       if IsValid(grid,new_row,new_col):\n",
    "           neighbors.append((new_row,new_col))\n",
    "    return neighbors\n",
    "def bfs(grid , start):\n",
    "    rows=len(grid)\n",
    "    columns=(grid[0])\n",
    "    visited=set()\n",
    "    queue=deque([(start,[])])\n",
    "    while queue:\n",
    "        (row,col),path=queue.popleft()\n",
    "        if grid[row][col]=='E':\n",
    "            return path+[(row,col)]\n",
    "        if (row,col)  not in visited:\n",
    "            visited.add((row,col))\n",
    "            for neighbors in get_neighbors(grid,row,col):\n",
    "                queue.append((neighbors,path+[(row,col)]))\n",
    "    return None \n",
    "def dfs(grid,start):\n",
    "    rows=len(grid)\n",
    "    columns=(grid[0])\n",
    "    visited=set()\n",
    "    stack=[(start,[])]\n",
    "    while stack:\n",
    "        (row,col),path=stack.pop()\n",
    "        if grid[row][col]=='E':\n",
    "            return path + [(row,col)]\n",
    "        if (row,col) not in visited:\n",
    "            visited.add((row,col))\n",
    "            for neighbors in get_neighbors(grid,row,col):\n",
    "                stack.append((neighbors,path+[(row,col)]))\n",
    "def solve_maze_with_bfs(maze):\n",
    "    start=None\n",
    "    for row in range(len(maze)):\n",
    "        for col in range(len(maze[0])):\n",
    "            if maze[row][col]=='S':\n",
    "               start=(row,col)\n",
    "               break\n",
    "        if start: break\n",
    "    if not start: return(\"Start point not found!\")\n",
    "\n",
    "    path_bfs=bfs(maze,start)\n",
    "\n",
    "\n",
    "    if path_bfs:return path_bfs\n",
    "    else:return \"No path found!\"\n",
    "    \n",
    "def solve_maze_with_dfs(maze):\n",
    "    start=None\n",
    "    for row in range(len(maze)):\n",
    "        for col in range(len(maze[0])):\n",
    "            if maze[row][col]=='S':\n",
    "               start=(row,col)\n",
    "               break\n",
    "        if start: break\n",
    "    if not start: return(\"Start point not found!\")\n",
    "\n",
    "    path_dfs=dfs(maze,start)\n",
    "\n",
    "\n",
    "    if path_dfs:return path_dfs\n",
    "    else:return \"No path found!\"\n",
    "\n",
    "\n",
    "\n"
   ]
  },
  {
   "cell_type": "code",
   "execution_count": 4,
   "metadata": {},
   "outputs": [
    {
     "name": "stdout",
     "output_type": "stream",
     "text": [
      "path found with bfs: \n",
      "# # # # # # # #\n",
      "# * * * * * * #\n",
      "# . # # # # * #\n",
      "# . # # # # * #\n",
      "# . . . . . * #\n",
      "# # # # # # * #\n",
      "# # # # # # # #\n",
      "path found with dfs: \n",
      "# # # # # # # #\n",
      "# * * * * * * #\n",
      "# * # # # # * #\n",
      "# * # # # # * #\n",
      "# * * * * * * #\n",
      "# # # # # # * #\n",
      "# # # # # # # #\n"
     ]
    }
   ],
   "source": [
    "maze = [\n",
    "    ['#', '#', '#', '#', '#', '#', '#', '#'],\n",
    "    ['#', 'S', '.', '.', '.', '.', '.', '#'],\n",
    "    ['#', '.', '#', '#', '#', '#', '.', '#'],\n",
    "    ['#', '.', '#', '#', '#', '#', '.', '#'],\n",
    "    ['#', '.', '.', '.', '.', '.', '.', '#'],\n",
    "    ['#', '#', '#', '#', '#', '#', 'E', '#'],\n",
    "    ['#', '#', '#', '#', '#', '#', '#', '#']\n",
    "]\n",
    "sol_for_bfs=solve_maze_with_bfs(maze)\n",
    "sol_for_dfs=solve_maze_with_dfs(maze)\n",
    "\n",
    "if isinstance(sol_for_bfs,list):\n",
    "    print(\"path found with bfs: \")\n",
    "    for row,col in sol_for_bfs:\n",
    "        maze[row][col]='*'\n",
    "    for row in maze:\n",
    "        print(' '.join(row))\n",
    "else:\n",
    "    print(sol_for_bfs)\n",
    "\n",
    "if isinstance(sol_for_dfs,list):\n",
    "    print(\"path found with dfs: \")\n",
    "    for row,col in sol_for_dfs:\n",
    "        maze[row][col]='*'\n",
    "    for row in maze:\n",
    "        print(' '.join(row))\n",
    "else:\n",
    "    print(sol_for_dfs)\n"
   ]
  },
  {
   "cell_type": "code",
   "execution_count": null,
   "metadata": {},
   "outputs": [],
   "source": []
  }
 ],
 "metadata": {
  "kernelspec": {
   "display_name": "Python 3",
   "language": "python",
   "name": "python3"
  },
  "language_info": {
   "codemirror_mode": {
    "name": "ipython",
    "version": 3
   },
   "file_extension": ".py",
   "mimetype": "text/x-python",
   "name": "python",
   "nbconvert_exporter": "python",
   "pygments_lexer": "ipython3",
   "version": "3.11.1"
  }
 },
 "nbformat": 4,
 "nbformat_minor": 2
}
